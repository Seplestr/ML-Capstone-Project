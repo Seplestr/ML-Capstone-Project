{
  "nbformat": 4,
  "nbformat_minor": 0,
  "metadata": {
    "colab": {
      "provenance": []
    },
    "kernelspec": {
      "name": "python3",
      "display_name": "Python 3"
    },
    "language_info": {
      "name": "python"
    }
  },
  "cells": [
    {
      "cell_type": "code",
      "source": [
        "import pandas as pd\n",
        "import numpy as np\n",
        "from sklearn.model_selection import train_test_split\n",
        "from sklearn.preprocessing import LabelEncoder\n",
        "from sklearn.ensemble import RandomForestClassifier\n",
        "from sklearn.metrics import accuracy_score, classification_report, r2_score, mean_absolute_error\n",
        "import matplotlib.pyplot as plt\n",
        "import joblib"
      ],
      "metadata": {
        "id": "VHFo_RJaRwJZ"
      },
      "execution_count": 42,
      "outputs": []
    },
    {
      "cell_type": "code",
      "source": [
        "df = pd.read_csv(\"players_20.csv\", on_bad_lines='skip')\n",
        "print(\"Dataset loaded successfully.\")\n",
        "print(\"Number of rows:\", len(df))\n",
        "print(\"\\nSample data:\\n\", df.head())"
      ],
      "metadata": {
        "id": "5uZHt1RERx1f",
        "colab": {
          "base_uri": "https://localhost:8080/"
        },
        "outputId": "0c6345c2-59bd-4e57-8792-caafe2a1af57"
      },
      "execution_count": 43,
      "outputs": [
        {
          "output_type": "stream",
          "name": "stdout",
          "text": [
            "Dataset loaded successfully.\n",
            "Number of rows: 18278\n",
            "\n",
            "Sample data:\n",
            "    sofifa_id                                         player_url  \\\n",
            "0     158023  https://sofifa.com/player/158023/lionel-messi/...   \n",
            "1      20801  https://sofifa.com/player/20801/c-ronaldo-dos-...   \n",
            "2     190871  https://sofifa.com/player/190871/neymar-da-sil...   \n",
            "3     200389  https://sofifa.com/player/200389/jan-oblak/20/...   \n",
            "4     183277  https://sofifa.com/player/183277/eden-hazard/2...   \n",
            "\n",
            "          short_name                            long_name  age         dob  \\\n",
            "0           L. Messi       Lionel Andrés Messi Cuccittini   32  1987-06-24   \n",
            "1  Cristiano Ronaldo  Cristiano Ronaldo dos Santos Aveiro   34  1985-02-05   \n",
            "2          Neymar Jr        Neymar da Silva Santos Junior   27  1992-02-05   \n",
            "3           J. Oblak                            Jan Oblak   26  1993-01-07   \n",
            "4          E. Hazard                          Eden Hazard   28  1991-01-07   \n",
            "\n",
            "   height_cm  weight_kg nationality                 club  ...   lwb   ldm  \\\n",
            "0        170         72   Argentina         FC Barcelona  ...  68+2  66+2   \n",
            "1        187         83    Portugal             Juventus  ...  65+3  61+3   \n",
            "2        175         68      Brazil  Paris Saint-Germain  ...  66+3  61+3   \n",
            "3        188         87    Slovenia      Atlético Madrid  ...   NaN   NaN   \n",
            "4        175         74     Belgium          Real Madrid  ...  66+3  63+3   \n",
            "\n",
            "    cdm   rdm   rwb    lb   lcb    cb   rcb    rb  \n",
            "0  66+2  66+2  68+2  63+2  52+2  52+2  52+2  63+2  \n",
            "1  61+3  61+3  65+3  61+3  53+3  53+3  53+3  61+3  \n",
            "2  61+3  61+3  66+3  61+3  46+3  46+3  46+3  61+3  \n",
            "3   NaN   NaN   NaN   NaN   NaN   NaN   NaN   NaN  \n",
            "4  63+3  63+3  66+3  61+3  49+3  49+3  49+3  61+3  \n",
            "\n",
            "[5 rows x 104 columns]\n"
          ]
        }
      ]
    },
    {
      "cell_type": "code",
      "source": [
        "features = [\n",
        "    'age', 'weight_kg', 'potential',\n",
        "    'skill_moves', 'work_rate', 'body_type',\n",
        "    'pace', 'shooting', 'passing', 'defending',\n",
        "    'physic', 'player_traits'\n",
        "]\n",
        "\n",
        "target = 'overall'\n",
        "X = df[features]\n",
        "y = df[target]"
      ],
      "metadata": {
        "id": "GUL-8-HCR28n"
      },
      "execution_count": 44,
      "outputs": []
    },
    {
      "cell_type": "code",
      "source": [
        "numerical_cols = ['age', 'weight_kg', 'potential', 'skill_moves', 'pace', 'shooting', 'passing', 'defending', 'physic']\n",
        "categorical_cols = ['work_rate', 'body_type', 'player_traits']\n",
        "\n",
        "# Clean numerical columns\n",
        "for col in numerical_cols:\n",
        "    X[col] = pd.to_numeric(X[col], errors='coerce').fillna(X[col].mean())\n",
        "\n",
        "# Encode categorical columns\n",
        "label_encoders = {}\n",
        "for col in categorical_cols:\n",
        "    le = LabelEncoder()\n",
        "    X[col] = X[col].fillna('Unknown_Category').astype(str)\n",
        "    X[col] = le.fit_transform(X[col])\n",
        "    label_encoders[col] = le\n",
        "\n",
        "print(\"Data cleaned and encoded successfully.\")\n"
      ],
      "metadata": {
        "colab": {
          "base_uri": "https://localhost:8080/"
        },
        "id": "bvu-SGi5UywI",
        "outputId": "f87a5a5c-b2ec-4240-f297-7671ae4fb9a2"
      },
      "execution_count": 45,
      "outputs": [
        {
          "output_type": "stream",
          "name": "stdout",
          "text": [
            "Data cleaned and encoded successfully.\n"
          ]
        },
        {
          "output_type": "stream",
          "name": "stderr",
          "text": [
            "/tmp/ipython-input-2445936941.py:6: SettingWithCopyWarning: \n",
            "A value is trying to be set on a copy of a slice from a DataFrame.\n",
            "Try using .loc[row_indexer,col_indexer] = value instead\n",
            "\n",
            "See the caveats in the documentation: https://pandas.pydata.org/pandas-docs/stable/user_guide/indexing.html#returning-a-view-versus-a-copy\n",
            "  X[col] = pd.to_numeric(X[col], errors='coerce').fillna(X[col].mean())\n",
            "/tmp/ipython-input-2445936941.py:12: SettingWithCopyWarning: \n",
            "A value is trying to be set on a copy of a slice from a DataFrame.\n",
            "Try using .loc[row_indexer,col_indexer] = value instead\n",
            "\n",
            "See the caveats in the documentation: https://pandas.pydata.org/pandas-docs/stable/user_guide/indexing.html#returning-a-view-versus-a-copy\n",
            "  X[col] = X[col].fillna('Unknown_Category').astype(str)\n",
            "/tmp/ipython-input-2445936941.py:13: SettingWithCopyWarning: \n",
            "A value is trying to be set on a copy of a slice from a DataFrame.\n",
            "Try using .loc[row_indexer,col_indexer] = value instead\n",
            "\n",
            "See the caveats in the documentation: https://pandas.pydata.org/pandas-docs/stable/user_guide/indexing.html#returning-a-view-versus-a-copy\n",
            "  X[col] = le.fit_transform(X[col])\n",
            "/tmp/ipython-input-2445936941.py:12: SettingWithCopyWarning: \n",
            "A value is trying to be set on a copy of a slice from a DataFrame.\n",
            "Try using .loc[row_indexer,col_indexer] = value instead\n",
            "\n",
            "See the caveats in the documentation: https://pandas.pydata.org/pandas-docs/stable/user_guide/indexing.html#returning-a-view-versus-a-copy\n",
            "  X[col] = X[col].fillna('Unknown_Category').astype(str)\n",
            "/tmp/ipython-input-2445936941.py:13: SettingWithCopyWarning: \n",
            "A value is trying to be set on a copy of a slice from a DataFrame.\n",
            "Try using .loc[row_indexer,col_indexer] = value instead\n",
            "\n",
            "See the caveats in the documentation: https://pandas.pydata.org/pandas-docs/stable/user_guide/indexing.html#returning-a-view-versus-a-copy\n",
            "  X[col] = le.fit_transform(X[col])\n",
            "/tmp/ipython-input-2445936941.py:12: SettingWithCopyWarning: \n",
            "A value is trying to be set on a copy of a slice from a DataFrame.\n",
            "Try using .loc[row_indexer,col_indexer] = value instead\n",
            "\n",
            "See the caveats in the documentation: https://pandas.pydata.org/pandas-docs/stable/user_guide/indexing.html#returning-a-view-versus-a-copy\n",
            "  X[col] = X[col].fillna('Unknown_Category').astype(str)\n",
            "/tmp/ipython-input-2445936941.py:13: SettingWithCopyWarning: \n",
            "A value is trying to be set on a copy of a slice from a DataFrame.\n",
            "Try using .loc[row_indexer,col_indexer] = value instead\n",
            "\n",
            "See the caveats in the documentation: https://pandas.pydata.org/pandas-docs/stable/user_guide/indexing.html#returning-a-view-versus-a-copy\n",
            "  X[col] = le.fit_transform(X[col])\n"
          ]
        }
      ]
    },
    {
      "cell_type": "code",
      "source": [
        "skill_cols = ['pace', 'shooting', 'passing', 'defending', 'physic', 'potential']\n",
        "target_col = 'overall'\n",
        "\n",
        "df_calc = df[skill_cols + [target_col]].apply(pd.to_numeric, errors='coerce').dropna()\n",
        "\n",
        "# Compute correlations and weights\n",
        "correlations = df_calc[skill_cols].corrwith(df_calc[target_col])\n",
        "weights = correlations.abs()\n",
        "weights = weights / weights.sum()\n",
        "\n",
        "weights_df = pd.DataFrame({\n",
        "    'Correlation_with_Overall': correlations.round(3),\n",
        "    'Normalized_Weight': weights.round(3)\n",
        "}).sort_values('Normalized_Weight', ascending=False)\n",
        "\n",
        "print(\"\\n📊 Data-Driven Weights for Each Attribute:\")\n",
        "print(weights_df)\n",
        "\n",
        "# Calculate overall using the weighted formula\n",
        "df_calc['overall_calculated'] = 0\n",
        "for col in skill_cols:\n",
        "    df_calc['overall_calculated'] += df_calc[col] * weights[col]\n",
        "\n",
        "df_calc['overall_calculated'] = (df_calc['overall_calculated'] / weights.sum()).round(1)\n",
        "\n",
        "# Validate formula performance\n",
        "r2 = r2_score(df_calc['overall'], df_calc['overall_calculated'])\n",
        "mae = mean_absolute_error(df_calc['overall'], df_calc['overall_calculated'])\n",
        "\n",
        "print(\"\\n✅ Formula Validation Results:\")\n",
        "print(f\"R² Score: {r2:.3f}\")\n",
        "print(f\"Mean Absolute Error: {mae:.3f}\")\n",
        "\n",
        "# Print derived formula\n",
        "print(\"\\n🧾 Derived Overall Formula:\")\n",
        "formula_str = \" + \".join([f\"({round(weights[col],3)} × {col})\" for col in skill_cols])\n",
        "print(f\"Overall ≈ {formula_str}\")\n"
      ],
      "metadata": {
        "colab": {
          "base_uri": "https://localhost:8080/"
        },
        "id": "1_J32gdfU6t5",
        "outputId": "739829b3-81e6-41aa-e734-05c20c40fb31"
      },
      "execution_count": 46,
      "outputs": [
        {
          "output_type": "stream",
          "name": "stdout",
          "text": [
            "\n",
            "📊 Data-Driven Weights for Each Attribute:\n",
            "           Correlation_with_Overall  Normalized_Weight\n",
            "passing                       0.684              0.242\n",
            "potential                     0.636              0.225\n",
            "physic                        0.517              0.183\n",
            "shooting                      0.498              0.176\n",
            "defending                     0.335              0.118\n",
            "pace                          0.159              0.056\n",
            "\n",
            "✅ Formula Validation Results:\n",
            "R² Score: 0.104\n",
            "Mean Absolute Error: 5.580\n",
            "\n",
            "🧾 Derived Overall Formula:\n",
            "Overall ≈ (0.056 × pace) + (0.176 × shooting) + (0.242 × passing) + (0.118 × defending) + (0.183 × physic) + (0.225 × potential)\n"
          ]
        }
      ]
    },
    {
      "cell_type": "code",
      "source": [
        "# ===========================================\n",
        "# 🧮 CALCULATE 'overall_calculated' FOR ALL PLAYERS\n",
        "# ===========================================\n",
        "\n",
        "# Ensure skill attributes used in the formula match training ones\n",
        "skill_cols = ['pace', 'shooting', 'passing', 'defending', 'physic', 'potential']\n",
        "\n",
        "# Calculate the overall for each player based on the formula\n",
        "df['overall_calculated'] = 0  # Initialize the column to store calculated values\n",
        "\n",
        "for index, row in df.iterrows():\n",
        "    overall_calc = 0\n",
        "    for col in skill_cols:\n",
        "        overall_calc += row[col] * weights[col]  # Using weights derived earlier\n",
        "    df.at[index, 'overall_calculated'] = overall_calc / weights.sum()  # Normalize and store the result\n",
        "\n",
        "# Round for consistency\n",
        "df['overall_calculated'] = df['overall_calculated'].round(1)\n",
        "\n",
        "# Display first 10 players for comparison\n",
        "print(\"\\nComparison of Actual vs Calculated Overall (Top 10 Players):\")\n",
        "print(df[['pace', 'shooting', 'passing', 'defending', 'physic', 'potential', 'overall', 'overall_calculated']].head(10))"
      ],
      "metadata": {
        "colab": {
          "base_uri": "https://localhost:8080/"
        },
        "id": "riCiYpPtYqDj",
        "outputId": "23d2e96e-4028-4506-945a-13f2ad9399d3"
      },
      "execution_count": 47,
      "outputs": [
        {
          "output_type": "stream",
          "name": "stderr",
          "text": [
            "/tmp/ipython-input-2112027213.py:15: FutureWarning: Setting an item of incompatible dtype is deprecated and will raise an error in a future version of pandas. Value '81.14219936619307' has dtype incompatible with int64, please explicitly cast to a compatible dtype first.\n",
            "  df.at[index, 'overall_calculated'] = overall_calc / weights.sum()  # Normalize and store the result\n"
          ]
        },
        {
          "output_type": "stream",
          "name": "stdout",
          "text": [
            "\n",
            "Comparison of Actual vs Calculated Overall (Top 10 Players):\n",
            "   pace  shooting  passing  defending  physic  potential  overall  \\\n",
            "0  87.0      92.0     92.0       39.0    66.0         94       94   \n",
            "1  90.0      93.0     82.0       35.0    78.0         93       93   \n",
            "2  91.0      85.0     87.0       32.0    58.0         92       92   \n",
            "3   NaN       NaN      NaN        NaN     NaN         93       91   \n",
            "4  91.0      83.0     86.0       35.0    66.0         91       91   \n",
            "5  76.0      86.0     92.0       61.0    78.0         91       91   \n",
            "6   NaN       NaN      NaN        NaN     NaN         93       90   \n",
            "7  77.0      60.0     70.0       90.0    86.0         91       90   \n",
            "8  74.0      76.0     89.0       72.0    66.0         90       90   \n",
            "9  93.0      86.0     81.0       45.0    74.0         90       90   \n",
            "\n",
            "   overall_calculated  \n",
            "0                81.1  \n",
            "1                80.6  \n",
            "2                76.2  \n",
            "3                 NaN  \n",
            "4                77.2  \n",
            "5                83.6  \n",
            "6                 NaN  \n",
            "7                78.6  \n",
            "8                79.9  \n",
            "9                79.0  \n"
          ]
        }
      ]
    },
    {
      "cell_type": "code",
      "source": [
        "plt.figure(figsize=(8,5))\n",
        "plt.bar(weights_df.index, weights_df['Normalized_Weight'])\n",
        "plt.title(\"Relative Importance (Weights) of Attributes for Overall\")\n",
        "plt.xlabel(\"Attributes\")\n",
        "plt.ylabel(\"Normalized Weight\")\n",
        "plt.grid(axis='y', linestyle='--', alpha=0.7)\n",
        "plt.show()\n",
        "\n",
        "plt.figure(figsize=(6,6))\n",
        "plt.scatter(df_calc['overall'], df_calc['overall_calculated'], alpha=0.5)\n",
        "plt.title(\"Actual vs Formula-Calculated Overall Ratings\")\n",
        "plt.xlabel(\"Actual Overall (FIFA)\")\n",
        "plt.ylabel(\"Calculated Overall (Formula)\")\n",
        "plt.grid(True)\n",
        "plt.show()\n"
      ],
      "metadata": {
        "colab": {
          "base_uri": "https://localhost:8080/",
          "height": 992
        },
        "id": "wWGGCq8MR3CK",
        "outputId": "d8b7423d-5114-4ac7-e638-5d5ae9affd15"
      },
      "execution_count": 48,
      "outputs": [
        {
          "output_type": "display_data",
          "data": {
            "text/plain": [
              "<Figure size 800x500 with 1 Axes>"
            ],
            "image/png": "[encoded data removed]"
          },
          "metadata": {}
        },
        {
          "output_type": "display_data",
          "data": {
            "text/plain": [
              "<Figure size 600x600 with 1 Axes>"
            ],
            "image/png": "[encoded data removed]"
          },
          "metadata": {}
        }
      ]
    },
    {
      "cell_type": "code",
      "source": [
        "# ===========================================\n",
        "# 🧮 CREATE ELIGIBILITY BASED ON 'overall_calculated'\n",
        "# ===========================================\n",
        "\n",
        "# Create eligibility column (1 = Eligible, 0 = Not Eligible)\n",
        "df['eligible'] = (df['overall_calculated'] > 70).astype(int)\n",
        "\n",
        "# Display first few entries to verify\n",
        "print(\"\\nEligibility Based on Calculated Overall (First 10 Players):\")\n",
        "print(df[['overall_calculated', 'eligible']].head(10))"
      ],
      "metadata": {
        "colab": {
          "base_uri": "https://localhost:8080/"
        },
        "id": "v3g8NYWVR3J3",
        "outputId": "44fd2eaf-7796-4fd7-a8e2-52d086b8ca72"
      },
      "execution_count": 49,
      "outputs": [
        {
          "output_type": "stream",
          "name": "stdout",
          "text": [
            "\n",
            "Eligibility Based on Calculated Overall (First 10 Players):\n",
            "   overall_calculated  eligible\n",
            "0                81.1         1\n",
            "1                80.6         1\n",
            "2                76.2         1\n",
            "3                 NaN         0\n",
            "4                77.2         1\n",
            "5                83.6         1\n",
            "6                 NaN         0\n",
            "7                78.6         1\n",
            "8                79.9         1\n",
            "9                79.0         1\n"
          ]
        }
      ]
    },
    {
      "cell_type": "code",
      "source": [
        "# ===========================================\n",
        "# 🧑‍🏫 SPLIT DATA AND TRAIN MODEL USING NEW 'eligible' LABEL\n",
        "# ===========================================\n",
        "\n",
        "# Features and Target\n",
        "features = ['age', 'weight_kg', 'potential', 'skill_moves', 'work_rate', 'body_type',\n",
        "            'pace', 'shooting', 'passing', 'defending', 'physic', 'player_traits']\n",
        "target = 'eligible'\n",
        "\n",
        "# Preparing data\n",
        "X = df[features].copy() # Create a copy to avoid SettingWithCopyWarning\n",
        "y = df[target]\n",
        "\n",
        "# Encode categorical columns\n",
        "# Re-apply the same encoding as before to handle categorical features for model training\n",
        "for col in categorical_cols:\n",
        "    le = label_encoders[col]\n",
        "    X[col] = X[col].fillna('Unknown_Category').astype(str)\n",
        "    X[col] = le.transform(X[col])\n",
        "\n",
        "\n",
        "# Train-test split\n",
        "X_train, X_test, y_train, y_test = train_test_split(X, y, test_size=0.2, random_state=42)\n",
        "\n",
        "# Train RandomForest model\n",
        "model = RandomForestClassifier(n_estimators=200, random_state=42)\n",
        "model.fit(X_train, y_train)\n",
        "\n",
        "# Predict on the test set and evaluate\n",
        "y_pred = model.predict(X_test)\n",
        "print(\"\\nModel Accuracy:\", accuracy_score(y_test, y_pred))\n",
        "print(\"\\nClassification Report:\\n\", classification_report(y_test, y_pred))"
      ],
      "metadata": {
        "id": "Udwuql4WR3Mo",
        "colab": {
          "base_uri": "https://localhost:8080/"
        },
        "outputId": "d0605826-dead-46db-d8c1-bc2d24abb7ae"
      },
      "execution_count": 50,
      "outputs": [
        {
          "output_type": "stream",
          "name": "stdout",
          "text": [
            "\n",
            "Model Accuracy: 0.986870897155361\n",
            "\n",
            "Classification Report:\n",
            "               precision    recall  f1-score   support\n",
            "\n",
            "           0       0.99      1.00      0.99      3391\n",
            "           1       0.97      0.84      0.90       265\n",
            "\n",
            "    accuracy                           0.99      3656\n",
            "   macro avg       0.98      0.92      0.95      3656\n",
            "weighted avg       0.99      0.99      0.99      3656\n",
            "\n"
          ]
        }
      ]
    },
    {
      "cell_type": "code",
      "source": [
        "new_player = {\n",
        "    'age': 20,\n",
        "    'weight_kg': 69,\n",
        "    'potential': 42,\n",
        "    'skill_moves': 3,\n",
        "    'work_rate': 'Low/High',\n",
        "    'body_type': 'Fat',\n",
        "    'pace': 90,\n",
        "    'shooting': 88,\n",
        "    'passing': 85,\n",
        "    'defending': 72,\n",
        "    'physic': 74,\n",
        "    'player_traits': 'Outside Foot Shot'\n",
        "}\n",
        "\n",
        "new_df = pd.DataFrame([new_player])\n",
        "\n",
        "# Preprocess new player data\n",
        "for col in numerical_cols:\n",
        "    new_df[col] = pd.to_numeric(new_df[col], errors='coerce').fillna(X[col].mean())\n",
        "\n",
        "for col in categorical_cols:\n",
        "    le = label_encoders[col]\n",
        "    new_df[col] = new_df[col].apply(lambda x: x if x in le.classes_ else 'Unknown_Category')\n",
        "    if 'Unknown_Category' not in le.classes_:\n",
        "        le.classes_ = np.append(le.classes_, 'Unknown_Category')\n",
        "    new_df[col] = le.transform(new_df[col])\n",
        "\n",
        "# Predict eligibility\n",
        "prediction = model.predict(new_df)[0]\n",
        "print(\"\\n🧍 NEW PLAYER PREDICTION:\")\n",
        "print(\"✅ Player is Eligible to Play\" if prediction == 1 else \"❌ Player is Not Eligible to Play\")\n"
      ],
      "metadata": {
        "id": "YHWEnvlUR9U-",
        "colab": {
          "base_uri": "https://localhost:8080/"
        },
        "outputId": "c8262123-3755-432b-d654-b0bdd6032ce4"
      },
      "execution_count": 51,
      "outputs": [
        {
          "output_type": "stream",
          "name": "stdout",
          "text": [
            "\n",
            "🧍 NEW PLAYER PREDICTION:\n",
            "✅ Player is Eligible to Play\n"
          ]
        }
      ]
    },
    {
      "cell_type": "code",
      "metadata": {
        "id": "55d36d8b"
      },
      "source": [
        "# This code block outlines the logic for processing queries within your API endpoint.\n",
        "# You would typically integrate this into a web framework like Flask or FastAPI.\n",
        "\n",
        "import joblib\n",
        "import pandas as pd\n",
        "import numpy as np\n",
        "\n",
        "# Assume model and label_encoders are loaded as described in the plan\n",
        "# model = joblib.load('model.pkl')\n",
        "# label_encoders = joblib.load('vectorizer.pkl')\n",
        "\n",
        "# Define the expected features for the model\n",
        "model_features = ['age', 'weight_kg', 'potential', 'skill_moves', 'work_rate', 'body_type',\n",
        "                  'pace', 'shooting', 'passing', 'defending', 'physic', 'player_traits']\n",
        "\n",
        "# Define numerical and categorical columns as used during training\n",
        "numerical_cols = ['age', 'weight_kg', 'potential', 'skill_moves', 'pace', 'shooting', 'passing', 'defending', 'physic']\n",
        "categorical_cols = ['work_rate', 'body_type', 'player_traits']\n",
        "\n",
        "def process_query(query_text):\n",
        "    \"\"\"\n",
        "    Processes a natural language query to determine player eligibility.\n",
        "\n",
        "    Args:\n",
        "        query_text (str): The user's natural language query.\n",
        "\n",
        "    Returns:\n",
        "        str: A natural language response about player eligibility or an\n",
        "             out-of-domain message.\n",
        "    \"\"\"\n",
        "    # --- Step 1: Attempt to extract player attributes from the query ---\n",
        "    # This is a simplified example. A real implementation would require\n",
        "    # more sophisticated natural language processing (NLP) to extract\n",
        "    # entities like age, weight, pace, etc.\n",
        "    # For demonstration, we'll assume the query contains key-value pairs\n",
        "    # or you have another method to get the attributes.\n",
        "    # Example: \"Check eligibility for a player with age 25, pace 80, and shooting 75\"\n",
        "\n",
        "    # Placeholder for extracted attributes\n",
        "    extracted_attributes = {}\n",
        "    query_lower = query_text.lower()\n",
        "\n",
        "    # Simple keyword matching (replace with more robust NLP)\n",
        "    if \"age\" in query_lower:\n",
        "        # In a real scenario, extract the number following \"age\"\n",
        "        extracted_attributes['age'] = None # Placeholder\n",
        "    if \"pace\" in query_lower:\n",
        "         # In a real scenario, extract the number following \"pace\"\n",
        "        extracted_attributes['pace'] = None # Placeholder\n",
        "    # Add similar logic for other relevant attributes\n",
        "\n",
        "    # --- Step 2: Check if sufficient domain-specific attributes were extracted ---\n",
        "    # This is a heuristic. You might need a minimum number of key attributes.\n",
        "    if not extracted_attributes or len(extracted_attributes) < 3: # Example threshold\n",
        "        return \"I can only answer questions about player eligibility based on their attributes (like age, pace, shooting, etc.). Please provide more details.\"\n",
        "\n",
        "    # --- Step 3: Prepare data for the model ---\n",
        "    # Create a DataFrame for the new player based on extracted attributes\n",
        "    new_player_data = {feature: None for feature in model_features} # Initialize with None\n",
        "    new_player_data.update(extracted_attributes) # Update with extracted values\n",
        "    new_df = pd.DataFrame([new_player_data])\n",
        "\n",
        "    # Preprocess the new player data using the same steps as training\n",
        "    for col in numerical_cols:\n",
        "        # In a real API, handle missing numerical values appropriately (e.g., mean from training data)\n",
        "        new_df[col] = pd.to_numeric(new_df[col], errors='coerce').fillna(0) # Using 0 as a simple fallback\n",
        "\n",
        "\n",
        "    for col in categorical_cols:\n",
        "        # In a real API, handle missing categorical values and unknown categories\n",
        "        new_df[col] = new_df[col].fillna('Unknown_Category').astype(str)\n",
        "        if col in label_encoders:\n",
        "             # Handle categories not seen during training gracefully\n",
        "            new_df[col] = new_df[col].apply(lambda x: x if x in label_encoders[col].classes_ else 'Unknown_Category')\n",
        "            # If 'Unknown_Category' wasn't in training classes, add it temporarily for transformation\n",
        "            if 'Unknown_Category' not in label_encoders[col].classes_:\n",
        "                 label_encoders[col].classes_ = np.append(label_encoders[col].classes_, 'Unknown_Category')\n",
        "            new_df[col] = label_encoders[col].transform(new_df[col])\n",
        "        else:\n",
        "            # Handle case where label encoder is missing for a column\n",
        "             new_df[col] = 0 # Or another appropriate fallback\n",
        "\n",
        "\n",
        "    # Ensure the columns are in the same order as the training data\n",
        "    new_df = new_df[model_features]\n",
        "\n",
        "\n",
        "    # --- Step 4: Make a prediction using the loaded model ---\n",
        "    try:\n",
        "        prediction = model.predict(new_df)[0]\n",
        "        # --- Step 5: Format the response ---\n",
        "        if prediction == 1:\n",
        "            response = \"Based on the attributes provided, the player is likely eligible.\"\n",
        "        else:\n",
        "            response = \"Based on the attributes provided, the player is likely not eligible.\"\n",
        "    except Exception as e:\n",
        "        print(f\"Error during prediction: {e}\")\n",
        "        response = \"An error occurred while processing your request.\"\n",
        "\n",
        "\n",
        "    return response\n",
        "\n",
        "# Example usage (in your API, this would be triggered by an incoming request)\n",
        "# print(process_query(\"Check eligibility for a player with age 25, pace 80, and shooting 75\"))\n",
        "# print(process_query(\"What is the weather today?\"))"
      ],
      "execution_count": 52,
      "outputs": []
    },
    {
      "cell_type": "code",
      "source": [
        "# ===========================================\n",
        "# 🧮 CALCULATE OVERALL FOR NEW PLAYER USING FORMULA\n",
        "# ===========================================\n",
        "\n",
        "# Ensure skill attributes used in formula match training ones\n",
        "skill_cols = ['pace', 'shooting', 'passing', 'defending', 'physic', 'potential']\n",
        "\n",
        "# Use the same weights you derived earlier\n",
        "print(\"\\n⚙️ Using weights derived from correlation:\\n\")\n",
        "print(weights.round(3))\n",
        "\n",
        "# Compute the formula-based overall for the new player\n",
        "overall_calc = 0\n",
        "for col in skill_cols:\n",
        "    if col in new_df.columns:\n",
        "        overall_calc += new_df[col].values[0] * weights[col]\n",
        "    else:\n",
        "        print(f\"⚠️ Missing column {col} in new player data.\")\n",
        "\n",
        "overall_calc = (overall_calc / weights.sum()).round(1)\n",
        "\n",
        "print(\"\\n===============================\")\n",
        "print(\"🎯 NEW PLAYER FORMULA-BASED OVERALL\")\n",
        "print(\"===============================\")\n",
        "print(f\"Calculated Overall Rating: {overall_calc}\")\n",
        "\n",
        "# Decide eligibility based on calculated overall\n",
        "eligible_status = \"✅ Eligible\" if overall_calc > 70 else \"❌ Not Eligible\"\n",
        "print(f\"Eligibility (based on formula): {eligible_status}\")\n"
      ],
      "metadata": {
        "id": "SNKZa0haZE0m",
        "colab": {
          "base_uri": "https://localhost:8080/"
        },
        "outputId": "3694bd06-f156-4b24-b4a7-f402a642279b"
      },
      "execution_count": 53,
      "outputs": [
        {
          "output_type": "stream",
          "name": "stdout",
          "text": [
            "\n",
            "⚙️ Using weights derived from correlation:\n",
            "\n",
            "pace         0.056\n",
            "shooting     0.176\n",
            "passing      0.242\n",
            "defending    0.118\n",
            "physic       0.183\n",
            "potential    0.225\n",
            "dtype: float64\n",
            "\n",
            "===============================\n",
            "🎯 NEW PLAYER FORMULA-BASED OVERALL\n",
            "===============================\n",
            "Calculated Overall Rating: 72.6\n",
            "Eligibility (based on formula): ✅ Eligible\n"
          ]
        }
      ]
    },
    {
      "cell_type": "code",
      "metadata": {
        "id": "1597b62a"
      },
      "source": [
        "# # Assuming you have already loaded:\n",
        "# # loaded_model = joblib.load('model.pkl')\n",
        "# # loaded_label_encoders = joblib.load('vectorizer.pkl')\n",
        "# # model_features = [...] # list of model features\n",
        "# # numerical_cols = [...] # list of numerical columns\n",
        "# # categorical_cols = [...] # list of categorical columns\n",
        "\n",
        "def preprocess_and_predict(player_data):\n",
        "    \"\"\"\n",
        "    Preprocesses new player data and makes a prediction using the loaded model.\n",
        "\n",
        "    Args:\n",
        "        player_data (dict): A dictionary containing the new player's attributes.\n",
        "\n",
        "    Returns:\n",
        "        int: The prediction result (0 or 1).\n",
        "        str: An error message if preprocessing fails.\n",
        "    \"\"\"\n",
        "    try:\n",
        "        # Create a DataFrame for the new player, ensuring all model_features are present\n",
        "        # Fill missing required features with a default value (e.g., 0)\n",
        "        new_player_df = pd.DataFrame([player_data]).reindex(columns=model_features, fill_value=0)\n",
        "\n",
        "        # Preprocess numerical columns\n",
        "        for col in numerical_cols:\n",
        "            new_player_df[col] = pd.to_numeric(new_player_df[col], errors='coerce').fillna(0) # Handle missing numerical values\n",
        "\n",
        "        # Preprocess categorical columns using loaded encoders\n",
        "        for col in categorical_cols:\n",
        "            if col in loaded_label_encoders:\n",
        "                le = loaded_label_encoders[col]\n",
        "                new_player_df[col] = new_player_df[col].fillna('Unknown_Category').astype(str)\n",
        "\n",
        "                # Handle categories not seen during training gracefully\n",
        "                # Add unseen labels to the encoder's classes before transforming\n",
        "                unseen_labels = new_player_df[col][~new_player_df[col].isin(le.classes_)]\n",
        "                if not unseen_labels.empty:\n",
        "                    le.classes_ = np.append(le.classes_, unseen_labels.unique())\n",
        "\n",
        "                new_player_df[col] = le.transform(new_player_df[col])\n",
        "\n",
        "            else:\n",
        "                # Handle case where label encoder is missing for a column (should not happen if vectorizer.pkl is correct)\n",
        "                print(f\"Warning: Label encoder not found for column '{col}'. Filling with 0.\")\n",
        "                new_player_df[col] = 0 # Fallback\n",
        "\n",
        "        # Ensure the columns are in the same order as the training data features (already done with reindex)\n",
        "        new_df_processed = new_player_df[model_features]\n",
        "\n",
        "\n",
        "        # Make prediction\n",
        "        prediction = loaded_model.predict(new_df_processed)[0]\n",
        "\n",
        "        return int(prediction), None # Return prediction and no error\n",
        "\n",
        "    except Exception as e:\n",
        "        print(f\"Error during preprocessing or prediction: {e}\")\n",
        "        return None, str(e) # Return no prediction and the error message\n",
        "\n",
        "# Example usage within your Flask app:\n",
        "# @app.route('/predict', methods=['POST'])\n",
        "# def predict():\n",
        "#     player_data = request.json # Assuming player data is sent as JSON\n",
        "#     prediction, error = preprocess_and_predict(player_data)\n",
        "#\n",
        "#     if error:\n",
        "#         return jsonify({'error': error}), 500\n",
        "#     else:\n",
        "#         # Format the response based on prediction (0 or 1)\n",
        "#         response_message = \"Player is Eligible\" if prediction == 1 else \"Player is Not Eligible\"\n",
        "#         return jsonify({'prediction': prediction, 'message': response_message})"
      ],
      "execution_count": 54,
      "outputs": []
    },
    {
      "cell_type": "code",
      "metadata": {
        "id": "10cebc7a"
      },
      "source": [],
      "execution_count": null,
      "outputs": []
    },
    {
      "cell_type": "code",
      "metadata": {
        "colab": {
          "base_uri": "https://localhost:8080/"
        },
        "id": "b8c599e1",
        "outputId": "bb3bd4e0-fb6d-4405-c871-c34b4dab883f"
      },
      "source": [
        "# Assuming label_encoders is loaded or available in the environment\n",
        "if 'body_type' in label_encoders:\n",
        "    print(\"Valid categories for 'body_type':\")\n",
        "    print(label_encoders['body_type'].classes_)\n",
        "else:\n",
        "    print(\"Label encoder for 'body_type' not found.\")"
      ],
      "execution_count": 55,
      "outputs": [
        {
          "output_type": "stream",
          "name": "stdout",
          "text": [
            "Valid categories for 'body_type':\n",
            "['Akinfenwa' 'C. Ronaldo' 'Courtois' 'Lean' 'Messi' 'Neymar' 'Normal'\n",
            " 'PLAYER_BODY_TYPE_25' 'Shaqiri' 'Stocky' 'Unknown_Category']\n"
          ]
        }
      ]
    },
    {
      "cell_type": "code",
      "metadata": {
        "colab": {
          "base_uri": "https://localhost:8080/"
        },
        "id": "7755bf73-e698-4b68-9628-5cf841f4609e",
        "outputId": "b0c2319c-fd4f-4674-9cd3-2a7e90e38d6e"
      },
      "source": [
        "#  save the trained model as model.pkl\n",
        "joblib.dump(model, 'model.pkl')\n",
        "print(\"Trained model saved as model.pkl\")"
      ],
      "execution_count": 56,
      "outputs": [
        {
          "output_type": "stream",
          "name": "stdout",
          "text": [
            "Trained model saved as model.pkl\n"
          ]
        }
      ]
    },
    {
      "cell_type": "code",
      "metadata": {
        "colab": {
          "base_uri": "https://localhost:8080/"
        },
        "id": "70d4a3fa-af20-45d0-9527-a7a9a5e88b94",
        "outputId": "81e552c1-1e83-4dc1-bb2e-0076a8426097"
      },
      "source": [
        "# the label encoders as vectorizer.pkl\n",
        "joblib.dump(label_encoders, 'vectorizer.pkl')\n",
        "print(\"Label encoders saved as vectorizer.pkl\")"
      ],
      "execution_count": 57,
      "outputs": [
        {
          "output_type": "stream",
          "name": "stdout",
          "text": [
            "Label encoders saved as vectorizer.pkl\n"
          ]
        }
      ]
    },
    {
      "cell_type": "code",
      "source": [],
      "metadata": {
        "id": "Z1L4snjbyOaL"
      },
      "execution_count": 57,
      "outputs": []
    },
    {
      "cell_type": "code",
      "source": [
        "# The Random Forest model uses the trained patterns (based on player stats + encoded categories)\n",
        "# to predict whether this player is eligible (1) or not eligible (0)."
      ],
      "metadata": {
        "id": "h49rJxTnbXs5"
      },
      "execution_count": 58,
      "outputs": []
    },
    {
      "cell_type": "markdown",
      "metadata": {
        "id": "be78d0ce"
      },
      "source": [
        "## Notebook Explanation: Cell by Cell\n",
        "\n",
        "Here's a breakdown of each cell in this notebook to help explain it to someone else:\n",
        "\n",
        "**Cell 1 (Import Libraries):**\n",
        "This cell imports all the necessary Python libraries for data manipulation, machine learning, and plotting.\n",
        "- `pandas` for data handling.\n",
        "- `numpy` for numerical operations.\n",
        "- `sklearn` modules for splitting data, encoding, training a model, and evaluating performance.\n",
        "- `matplotlib.pyplot` for creating visualizations.\n",
        "\n",
        "**Cell 2 (Load Data):**\n",
        "This cell loads the player data from the \"players_20.csv\" file into a pandas DataFrame. It also prints the number of rows and the first few rows to show a sample of the data.\n",
        "\n",
        "**Cell 3 (Define Features and Target):**\n",
        "This cell defines the list of features (player attributes) that will be used for analysis and the target variable, which is the 'overall' rating of the player.\n",
        "\n",
        "**Cell 4 (Clean and Encode Data):**\n",
        "This cell preprocesses the data:\n",
        "- It identifies numerical and categorical columns.\n",
        "- It cleans numerical columns by converting them to numeric types and filling missing values with the mean.\n",
        "- It encodes categorical columns using `LabelEncoder` to convert them into numerical representations that can be used by machine learning models. Missing categorical values are filled with a placeholder 'Unknown_Category'.\n",
        "\n",
        "**Cell 5 (Derive Overall Formula and Validate):**\n",
        "This cell performs the following:\n",
        "- It selects the skill-related columns and the target 'overall' column.\n",
        "- It calculates the correlation between each skill attribute and the 'overall' rating.\n",
        "- It normalizes these correlations to get weights, representing the relative importance of each attribute.\n",
        "- It prints the weights and the derived formula for calculating an estimated overall rating based on these weights.\n",
        "- It validates the formula's performance using R² score and Mean Absolute Error (MAE) by comparing the actual 'overall' rating with the calculated one.\n",
        "\n",
        "**Cell 6 (Calculate 'overall_calculated' for all Players):**\n",
        "This cell applies the derived formula from the previous cell to calculate the 'overall_calculated' rating for every player in the dataset. It iterates through each player's attributes, applies the weights, and stores the result in a new column called 'overall_calculated'. It also prints the comparison of actual vs. calculated overall for the first 10 players.\n",
        "\n",
        "**Cell 7 (Visualize Weights and Formula Performance):**\n",
        "This cell generates two plots:\n",
        "- A bar chart showing the normalized weights of each attribute, visually representing their importance in the derived formula.\n",
        "- A scatter plot comparing the actual 'overall' ratings with the 'overall_calculated' ratings from the formula, helping to visualize how well the formula aligns with the actual data.\n",
        "\n",
        "**Cell 8 (Create Eligibility Based on 'overall_calculated'):**\n",
        "This cell creates a new binary target variable called 'eligible'. Players with an 'overall_calculated' rating greater than 70 are marked as eligible (1), and those with 70 or less are marked as not eligible (0). This creates a classification problem from the regression-based overall calculation.\n",
        "\n",
        "**Cell 9 (Align Data for Model Training):**\n",
        "This cell aligns the feature set `X` with the DataFrame `df_calc` that was used to calculate the 'overall_calculated' and 'eligible' columns. This ensures that the features and the new target variable correspond to the same set of players, preparing the data for the classification model.\n",
        "\n",
        "**Cell 10 (Split Data and Train Model):**\n",
        "This cell prepares the data for training a classification model:\n",
        "- It defines the features and the new 'eligible' target.\n",
        "- It creates copies of the feature and target dataframes to avoid potential warnings.\n",
        "- It re-applies the same label encoding to the categorical features in the full dataset (as done in Cell 4).\n",
        "- It splits the data into training and testing sets using `train_test_split`.\n",
        "- It trains a `RandomForestClassifier` model on the training data.\n",
        "- It evaluates the model's performance on the test set by printing the accuracy score and a detailed classification report (precision, recall, f1-score).\n",
        "\n",
        "**Cell 11 (Predict Eligibility for a New Player using Model):**\n",
        "This cell demonstrates how to use the trained RandomForest model to predict the eligibility of a hypothetical new player.\n",
        "- It defines the attributes of a new player in a dictionary.\n",
        "- It converts the new player data into a DataFrame.\n",
        "- It preprocesses the new player data using the same cleaning and encoding steps as applied to the training data, ensuring consistency.\n",
        "- It uses the trained model to predict the eligibility (1 or 0) of the new player and prints the result.\n",
        "\n",
        "**Cell 12 (Calculate Overall for New Player using Formula):**\n",
        "This cell calculates the 'overall_calculated' rating for the same new player using the derived formula from Cell 5.\n",
        "- It uses the previously calculated weights.\n",
        "- It applies the formula to the new player's skill attributes.\n",
        "- It prints the calculated overall rating and determines eligibility based on the > 70 threshold, providing a comparison to the model's prediction.\n",
        "\n",
        "**Cell 13 (Explanation of Model Prediction):**\n",
        "This cell provides a brief explanation of what the Random Forest model does in the context of this notebook – it uses the patterns learned from the training data (player stats and encoded categories) to predict eligibility."
      ]
    }
  ]
}